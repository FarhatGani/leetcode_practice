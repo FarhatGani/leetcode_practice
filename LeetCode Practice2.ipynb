{
 "cells": [
  {
   "cell_type": "code",
   "execution_count": 1,
   "id": "7dd071fe",
   "metadata": {},
   "outputs": [],
   "source": [
    "#Power of Two\n",
    "\n",
    "import math\n",
    "\n",
    "def isPowerOfTwo(n):\n",
    "    if n <= 0:\n",
    "        return False\n",
    "    x = math.log10(n)/math.log10(2)\n",
    "    return n == 2**int(x)"
   ]
  },
  {
   "cell_type": "code",
   "execution_count": 2,
   "id": "d582c629",
   "metadata": {},
   "outputs": [
    {
     "name": "stdout",
     "output_type": "stream",
     "text": [
      "True\n",
      "False\n"
     ]
    }
   ],
   "source": [
    "example_1 = isPowerOfTwo(16)\n",
    "print(example_1)\n",
    "example_2 = isPowerOfTwo(-16)\n",
    "print(example_2)"
   ]
  },
  {
   "cell_type": "code",
   "execution_count": 3,
   "id": "c4f84392",
   "metadata": {},
   "outputs": [],
   "source": [
    "#Contains Duplicate\n",
    "\n",
    "def containsDuplicate(nums):\n",
    "        set1 = set()\n",
    "        for n in nums:\n",
    "            if n in set1:\n",
    "                return True\n",
    "            set1.add(n)\n",
    "        return False"
   ]
  },
  {
   "cell_type": "code",
   "execution_count": 4,
   "id": "fc28d4af",
   "metadata": {},
   "outputs": [
    {
     "name": "stdout",
     "output_type": "stream",
     "text": [
      "True\n",
      "False\n"
     ]
    }
   ],
   "source": [
    "example_3 = containsDuplicate([1,2,3,2,3,5])\n",
    "print(example_3)\n",
    "\n",
    "example_4 = containsDuplicate([1,2,3,])\n",
    "print(example_4)"
   ]
  },
  {
   "cell_type": "code",
   "execution_count": 5,
   "id": "b4fec5b3",
   "metadata": {},
   "outputs": [],
   "source": [
    "#Two Sum\n",
    "\n",
    "def twoSum(nums, target):\n",
    "    for i in range(len(nums)):\n",
    "        for j in range(i+1, len(nums)):\n",
    "            sum = nums[i] + nums[j]\n",
    "            if sum == target:\n",
    "                return [i, j]"
   ]
  },
  {
   "cell_type": "code",
   "execution_count": 6,
   "id": "a965812e",
   "metadata": {},
   "outputs": [
    {
     "name": "stdout",
     "output_type": "stream",
     "text": [
      "[1, 4]\n",
      "[4, 6]\n"
     ]
    }
   ],
   "source": [
    "example_5 = twoSum([1,3,5,7,9], 12)\n",
    "print(example_5)\n",
    "\n",
    "example_6 = twoSum([1,2,3,4,-5,6,7,8,9], 2)\n",
    "\n",
    "print(example_6)"
   ]
  },
  {
   "cell_type": "code",
   "execution_count": null,
   "id": "3c3e3295",
   "metadata": {},
   "outputs": [],
   "source": []
  }
 ],
 "metadata": {
  "kernelspec": {
   "display_name": "Python 3 (ipykernel)",
   "language": "python",
   "name": "python3"
  },
  "language_info": {
   "codemirror_mode": {
    "name": "ipython",
    "version": 3
   },
   "file_extension": ".py",
   "mimetype": "text/x-python",
   "name": "python",
   "nbconvert_exporter": "python",
   "pygments_lexer": "ipython3",
   "version": "3.9.7"
  }
 },
 "nbformat": 4,
 "nbformat_minor": 5
}
