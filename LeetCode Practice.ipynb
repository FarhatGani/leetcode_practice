{
 "cells": [
  {
   "cell_type": "code",
   "execution_count": 9,
   "id": "8e030b9e",
   "metadata": {},
   "outputs": [],
   "source": [
    "# Maximum Product of Three Numbers"
   ]
  },
  {
   "cell_type": "code",
   "execution_count": 2,
   "id": "984125d9",
   "metadata": {},
   "outputs": [],
   "source": [
    " def maximumProduct(nums):\n",
    "        nums.sort()\n",
    "        P1 = nums[-1]*nums[0]*nums[1]\n",
    "        P2 = nums[-1]*nums[-2]*nums[-3]\n",
    "        return max(P1,P2)\n",
    "        pass"
   ]
  },
  {
   "cell_type": "code",
   "execution_count": 3,
   "id": "089c50a9",
   "metadata": {},
   "outputs": [
    {
     "name": "stdout",
     "output_type": "stream",
     "text": [
      "24\n",
      "100\n"
     ]
    }
   ],
   "source": [
    "example = maximumProduct([1,2,3,4])\n",
    "print(example)\n",
    "example2 = maximumProduct([1,-10, 10, -1, 5])\n",
    "print(example2)"
   ]
  },
  {
   "cell_type": "code",
   "execution_count": 8,
   "id": "a746311f",
   "metadata": {},
   "outputs": [],
   "source": [
    "#Richest Customer Wealth"
   ]
  },
  {
   "cell_type": "code",
   "execution_count": 5,
   "id": "840a3382",
   "metadata": {},
   "outputs": [],
   "source": [
    "def maximumWealth(accounts):\n",
    "        max_wealth = 0\n",
    "        for account in accounts:\n",
    "            ind_wealth = sum(account)\n",
    "            if max_wealth < ind_wealth:\n",
    "                max_wealth = ind_wealth\n",
    "        return max_wealth"
   ]
  },
  {
   "cell_type": "code",
   "execution_count": 7,
   "id": "31ab3351",
   "metadata": {},
   "outputs": [
    {
     "name": "stdout",
     "output_type": "stream",
     "text": [
      "10\n"
     ]
    }
   ],
   "source": [
    "example = maximumWealth([[1,5],[7,3],[3,5]])\n",
    "print(example)"
   ]
  },
  {
   "cell_type": "code",
   "execution_count": 10,
   "id": "81264e03",
   "metadata": {},
   "outputs": [],
   "source": [
    "#Shuffle the Array"
   ]
  },
  {
   "cell_type": "code",
   "execution_count": 14,
   "id": "85ad2684",
   "metadata": {},
   "outputs": [],
   "source": [
    "def shuffle(nums, n):\n",
    "        j = n \n",
    "        output_list = []\n",
    "        for i in range(n):\n",
    "            output_list.append(nums[i])\n",
    "            output_list.append(nums[j])\n",
    "            j = j + 1\n",
    "        return output_list"
   ]
  },
  {
   "cell_type": "code",
   "execution_count": 16,
   "id": "25444865",
   "metadata": {},
   "outputs": [
    {
     "name": "stdout",
     "output_type": "stream",
     "text": [
      "[1, -1, 2, -2, 3, -3, 4, -4]\n"
     ]
    }
   ],
   "source": [
    "example = shuffle([1,2,3,4,-1,-2,-3,-4], n = 4)\n",
    "print(example)"
   ]
  },
  {
   "cell_type": "code",
   "execution_count": 17,
   "id": "398d96ea",
   "metadata": {},
   "outputs": [],
   "source": [
    "# Valid Perfect Square"
   ]
  },
  {
   "cell_type": "code",
   "execution_count": 18,
   "id": "cb690a0f",
   "metadata": {},
   "outputs": [],
   "source": [
    "def isPerfectSquare(num):\n",
    "        squ_root = num**0.5\n",
    "        if (int(squ_root) == squ_root):\n",
    "            return True\n",
    "        else:\n",
    "            return False"
   ]
  },
  {
   "cell_type": "code",
   "execution_count": 21,
   "id": "7e3a91ba",
   "metadata": {},
   "outputs": [
    {
     "name": "stdout",
     "output_type": "stream",
     "text": [
      "True\n",
      "False\n"
     ]
    }
   ],
   "source": [
    "example = isPerfectSquare(16)\n",
    "print(example)\n",
    "example2 = isPerfectSquare(18)\n",
    "print(example2)"
   ]
  },
  {
   "cell_type": "code",
   "execution_count": null,
   "id": "85251253",
   "metadata": {},
   "outputs": [],
   "source": []
  }
 ],
 "metadata": {
  "kernelspec": {
   "display_name": "Python 3 (ipykernel)",
   "language": "python",
   "name": "python3"
  },
  "language_info": {
   "codemirror_mode": {
    "name": "ipython",
    "version": 3
   },
   "file_extension": ".py",
   "mimetype": "text/x-python",
   "name": "python",
   "nbconvert_exporter": "python",
   "pygments_lexer": "ipython3",
   "version": "3.9.7"
  }
 },
 "nbformat": 4,
 "nbformat_minor": 5
}
